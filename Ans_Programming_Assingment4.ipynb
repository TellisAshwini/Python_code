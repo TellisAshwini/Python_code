{
 "cells": [
  {
   "cell_type": "code",
   "execution_count": 9,
   "metadata": {},
   "outputs": [
    {
     "name": "stdout",
     "output_type": "stream",
     "text": [
      "720\n"
     ]
    }
   ],
   "source": [
    "#1.\tWrite a Python Program to Find the Factorial of a Number?\n",
    "\n",
    "n = 6\n",
    "fact = 1\n",
    "\n",
    "if n ==0:\n",
    "    fact = 1\n",
    "else:\n",
    "    for i in range(1, n+1):\n",
    "        fact = fact*i\n",
    "print(fact)"
   ]
  },
  {
   "cell_type": "code",
   "execution_count": 3,
   "metadata": {},
   "outputs": [
    {
     "name": "stdout",
     "output_type": "stream",
     "text": [
      "6*1 = 6\n",
      "6*2 = 12\n",
      "6*3 = 18\n",
      "6*4 = 24\n",
      "6*5 = 30\n",
      "6*6 = 36\n",
      "6*7 = 42\n",
      "6*8 = 48\n",
      "6*9 = 54\n",
      "6*10 = 60\n"
     ]
    }
   ],
   "source": [
    "#2.\tWrite a Python Program to Display the multiplication Table?\n",
    "\n",
    "num = 6 #num gives the multicant\n",
    "count = 10 #count give the 'n times' count\n",
    "for i in range(1, count+1):\n",
    "    print(\"{0}*{1} = {2}\".format(num,i,num*i))\n"
   ]
  },
  {
   "cell_type": "code",
   "execution_count": 14,
   "metadata": {},
   "outputs": [
    {
     "name": "stdout",
     "output_type": "stream",
     "text": [
      "0 1 1 2 3 5 8 13 21 34 55 89 144 233 377 610 987 "
     ]
    }
   ],
   "source": [
    "#3.\tWrite a Python Program to Print the Fibonacci sequence?\n",
    "#0,1,1,2,3,...\n",
    "num = int(input(\"Please enter an integer here: \"))\n",
    "n = 0 #n-1 term\n",
    "m = 1 #nth term\n",
    "count = 0 #counte for the loop\n",
    "if num == 0:\n",
    "    print(n)\n",
    "elif num == 1:\n",
    "    print(1)\n",
    "else:\n",
    "    while count < num:\n",
    "        print(n, end = \" \")\n",
    "        nth = m + n\n",
    "        n = m\n",
    "        m = nth\n",
    "        count +=1"
   ]
  },
  {
   "cell_type": "code",
   "execution_count": 1,
   "metadata": {},
   "outputs": [
    {
     "name": "stdout",
     "output_type": "stream",
     "text": [
      "Please enter an integer here: 153\n",
      "153 is an Armstrong number\n"
     ]
    }
   ],
   "source": [
    "#4.\tWrite a Python Program to Check Armstrong Number?\n",
    "num = int(input(\"Please enter an integer here: \"))\n",
    "s = str(num)\n",
    "psum = 0\n",
    "power = len(s)\n",
    "for i in range(power):\n",
    "    x = int(s[i])**power\n",
    "    psum = x+psum\n",
    "if psum == num:\n",
    "    print(\"{0} is an Armstrong number\".format(num))\n",
    "else:\n",
    "    print(\"{0} is not an Armstrong number\".format(num))\n",
    "\n"
   ]
  },
  {
   "cell_type": "code",
   "execution_count": null,
   "metadata": {},
   "outputs": [],
   "source": [
    "#5.\tWrite a Python Program to Find Armstrong Number in an Interval?\n",
    "start = int(input(\"Please enter the start of an interval\"))\n",
    "end = int(input(\"Please enter the end of an interval\"))\n",
    "\n",
    "while start <= end:\n",
    "    s = str(start)\n",
    "    power = len(s)\n",
    "    psum = 0\n",
    "    for i in range(power):\n",
    "        x = int(s[i])**power\n",
    "        psum = psum+x\n",
    "    if psum == start:\n",
    "        print(start, end = \" \")\n",
    "    start = start+1\n"
   ]
  },
  {
   "cell_type": "code",
   "execution_count": 1,
   "metadata": {},
   "outputs": [
    {
     "name": "stdout",
     "output_type": "stream",
     "text": [
      "465.0\n"
     ]
    }
   ],
   "source": [
    "#6.\tWrite a Python Program to Find the Sum of Natural Numbers?\n",
    "num = int(\"input(Please enter the number: \"))\n",
    "sum = 0\n",
    "\n",
    "if num >= 0:\n",
    "    sum = (num*(num+1))/2\n",
    "print(sum)\n",
    "\n",
    "    "
   ]
  },
  {
   "cell_type": "code",
   "execution_count": 7,
   "metadata": {},
   "outputs": [
    {
     "name": "stdout",
     "output_type": "stream",
     "text": [
      "0 1 2 3 4 5 6 7 8 9 153 "
     ]
    }
   ],
   "source": [
    "start = int(input(\"Please enter the start of an interval\"))\n",
    "end = int(input(\"Please enter the end of an interval\"))\n",
    "\n",
    "while start <= end:\n",
    "    s = str(start)\n",
    "    power = len(s)\n",
    "    psum = 0\n",
    "    for i in range(power):\n",
    "        x = int(s[i])**power\n",
    "        psum = psum+x\n",
    "    if psum == start:\n",
    "        print(start, end = \" \")\n",
    "    start = start+1"
   ]
  }
 ],
 "metadata": {
  "kernelspec": {
   "display_name": "Python 3",
   "language": "python",
   "name": "python3"
  },
  "language_info": {
   "codemirror_mode": {
    "name": "ipython",
    "version": 3
   },
   "file_extension": ".py",
   "mimetype": "text/x-python",
   "name": "python",
   "nbconvert_exporter": "python",
   "pygments_lexer": "ipython3",
   "version": "3.7.1"
  }
 },
 "nbformat": 4,
 "nbformat_minor": 2
}
