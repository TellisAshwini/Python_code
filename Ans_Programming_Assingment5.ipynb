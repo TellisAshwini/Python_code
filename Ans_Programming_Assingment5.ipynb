{
 "cells": [
  {
   "cell_type": "code",
   "execution_count": 3,
   "metadata": {},
   "outputs": [
    {
     "name": "stdout",
     "output_type": "stream",
     "text": [
      "LCM of 2 and 4 is 4\n"
     ]
    }
   ],
   "source": [
    "#1. Write a Python Program to Find LCM?\n",
    "num1 = int(input(\"Enter the 1st number: \"))\n",
    "num2 = int(input(\"Enter the 2nd number: \"))\n",
    "\n",
    "hcf = 1\n",
    "for i in range(num1 + 1, 2, -1):\n",
    "    if (num1 % i == 0 and num2 % i == 0):\n",
    "        hcf = i\n",
    "        break\n",
    "lcm = (num1 * num2) // hcf\n",
    "print(\"LCM of {0} and {1} is {2}\".format(num1, num2, lcm))"
   ]
  },
  {
   "cell_type": "code",
   "execution_count": null,
   "metadata": {},
   "outputs": [],
   "source": [
    "#2. Write a Python Program to Find HCF?\n",
    "num1 = int(input(\"Enter the 1st number: \"))\n",
    "num2 = int(input(\"Enter the 2nd number: \"))\n",
    " \n",
    "HCF = 1\n",
    " \n",
    "for i in range(num1+1, 2, -1):\n",
    "    if(num1%i==0 and num2%i==0):\n",
    "        HCF = i\n",
    "        break\n",
    "print(\"HCF of the numbers is: \",HCF)"
   ]
  },
  {
   "cell_type": "code",
   "execution_count": 2,
   "metadata": {},
   "outputs": [
    {
     "name": "stdout",
     "output_type": "stream",
     "text": [
      "Enter an integer: 8\n",
      "Enter the bin (for binary), oct (for octadecimal) or hex (for hexadecimal): hex\n",
      "The hex of decimal 8 is 8\n"
     ]
    }
   ],
   "source": [
    "#3. Write a Python Program to Convert Decimal to Binary, Octal and Hexadecimal?\n",
    "num = int(input(\"Enter an integer: \"))\n",
    "q = num\n",
    "s = \"\"\n",
    "rep = input(\"Enter the bin (for binary), oct (for octadecimal) or hex (for hexadecimal): \")\n",
    "while q>=1:\n",
    "    if rep == \"bin\":\n",
    "        var = 2\n",
    "    elif rep == \"oct\":\n",
    "        var = 8\n",
    "    elif rep == \"hex\":\n",
    "        var = 16\n",
    "    r = q%var\n",
    "    q = q//var\n",
    "    s = s+str(r)\n",
    "    output = s[::-1]\n",
    "print(\"The {0} of decimal {1} is {2}\".format(rep, num, output))"
   ]
  },
  {
   "cell_type": "code",
   "execution_count": 4,
   "metadata": {},
   "outputs": [
    {
     "name": "stdout",
     "output_type": "stream",
     "text": [
      "Enter the number whose ASCII code needs to be found: 9\n",
      "The ASCII value of given character is 57\n"
     ]
    }
   ],
   "source": [
    "#4. Write a Python Program To Find ASCII value of a character?\n",
    "c = input (\"Enter the number whose ASCII code needs to be found: \")\n",
    "print (\"The ASCII value of given character is\", ord (c ))\n"
   ]
  },
  {
   "cell_type": "code",
   "execution_count": 5,
   "metadata": {},
   "outputs": [],
   "source": [
    "#5. Write a python Program to make a simple calculator with 4 basic mathematical operations?\n",
    "def basic_calc():\n",
    "    num1 = int(input(\"Enter the 1st number: \"))\n",
    "    num2 = int(input(\"Enter the 2nd number: \"))\n",
    "    op = input(\"Enter the operation:add, sub, mul or div: \")\n",
    "\n",
    "    if op == \"add\":\n",
    "        return num1+num2\n",
    "    elif op == \"sub\":\n",
    "        return num1-num2\n",
    "    elif op == \"mul\":\n",
    "        return num1*num2\n",
    "    elif op == \"div\":\n",
    "        return num1/num2\n",
    "    else:\n",
    "        return \"Please enter a valid operation\""
   ]
  }
 ],
 "metadata": {
  "kernelspec": {
   "display_name": "Python 3",
   "language": "python",
   "name": "python3"
  },
  "language_info": {
   "codemirror_mode": {
    "name": "ipython",
    "version": 3
   },
   "file_extension": ".py",
   "mimetype": "text/x-python",
   "name": "python",
   "nbconvert_exporter": "python",
   "pygments_lexer": "ipython3",
   "version": "3.7.1"
  }
 },
 "nbformat": 4,
 "nbformat_minor": 2
}
