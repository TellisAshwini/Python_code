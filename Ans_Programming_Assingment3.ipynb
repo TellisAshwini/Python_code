{
 "cells": [
  {
   "cell_type": "code",
   "execution_count": 108,
   "metadata": {},
   "outputs": [
    {
     "name": "stdout",
     "output_type": "stream",
     "text": [
      "20 is a positive number\n"
     ]
    }
   ],
   "source": [
    "#1.\tWrite a Python Program to Check if a Number is Positive, Negative or Zero?\n",
    "a = int(input())\n",
    "if a > 0:\n",
    "    print(\"{0} is a positive number\".format(a))\n",
    "elif a < 0:\n",
    "    print(\"{0} is a negative number\".format(a))\n",
    "else:\n",
    "    print(\"The number is 0\")"
   ]
  },
  {
   "cell_type": "code",
   "execution_count": 110,
   "metadata": {},
   "outputs": [
    {
     "name": "stdout",
     "output_type": "stream",
     "text": [
      "21 is a odd number\n"
     ]
    }
   ],
   "source": [
    "#2.\tWrite a Python Program to Check if a Number is Odd or Even?\n",
    "a = int(input())\n",
    "if a%2 == 0:\n",
    "    print(\"{0} is a even number\".format(a))\n",
    "else:\n",
    "    print(\"{0} is a odd number\".format(a))"
   ]
  },
  {
   "cell_type": "code",
   "execution_count": 146,
   "metadata": {},
   "outputs": [
    {
     "name": "stdout",
     "output_type": "stream",
     "text": [
      "1796 is a leap year\n"
     ]
    }
   ],
   "source": [
    "#3.\tWrite a Python Program to Check Leap Year?\n",
    "\n",
    "#The rule is the leap year comes every 4 years but if the year is divisible by 100 but not 400 then the leap year is skipped\n",
    "year = int(input())\n",
    "a = range(0,10000,4)\n",
    "if year in a:\n",
    "    if year%100 == 0 and year%400 != 0:\n",
    "            print(\"{0} is not a leap year\".format(year))\n",
    "    else:\n",
    "            print(\"{0} is a leap year\".format(year))\n",
    "else:\n",
    "    print(\"{0} is not a leap year\".format(year))"
   ]
  },
  {
   "cell_type": "code",
   "execution_count": 11,
   "metadata": {},
   "outputs": [
    {
     "name": "stdout",
     "output_type": "stream",
     "text": [
      "3 is a prime number\n"
     ]
    }
   ],
   "source": [
    "#4.\tWrite a Python Program to Check Prime Number?\n",
    "num = 3\n",
    "flag = 0\n",
    "\n",
    "if num > 1 :\n",
    "    for i in range(2, num//2):\n",
    "        if (num%i) == 0:\n",
    "            flag = 1\n",
    "            break\n",
    "else :\n",
    "    flag = 1\n",
    "    \n",
    "if flag == 1:\n",
    "    print(\"{0} is not a prime number\".format(num))\n",
    "else:\n",
    "    print(\"{0} is a prime number\".format(num))"
   ]
  },
  {
   "cell_type": "code",
   "execution_count": 9,
   "metadata": {},
   "outputs": [
    {
     "name": "stdout",
     "output_type": "stream",
     "text": [
      "2 3 5 7 11 13 17 19 23 29 31 37 41 43 47 53 59 61 67 71 73 79 83 89 97 "
     ]
    }
   ],
   "source": [
    "#5.\tWrite a Python Program to Print all Prime Numbers in an Interval of 1-10000?\n",
    "num  = 1\n",
    "while num < 100:\n",
    "    flag = 0\n",
    "    num += 1\n",
    "    if num <= 1:\n",
    "        flag = 0\n",
    "    else:\n",
    "        for j in range(2,num):\n",
    "            if num%j == 0:\n",
    "                flag = 1\n",
    "                break\n",
    "    if flag == 0:\n",
    "            print(num, end=\" \")\n"
   ]
  },
  {
   "cell_type": "code",
   "execution_count": null,
   "metadata": {},
   "outputs": [],
   "source": []
  }
 ],
 "metadata": {
  "kernelspec": {
   "display_name": "Python 3",
   "language": "python",
   "name": "python3"
  },
  "language_info": {
   "codemirror_mode": {
    "name": "ipython",
    "version": 3
   },
   "file_extension": ".py",
   "mimetype": "text/x-python",
   "name": "python",
   "nbconvert_exporter": "python",
   "pygments_lexer": "ipython3",
   "version": "3.7.1"
  }
 },
 "nbformat": 4,
 "nbformat_minor": 2
}
